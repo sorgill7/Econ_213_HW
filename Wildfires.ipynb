{
 "cells": [
  {
   "cell_type": "markdown",
   "metadata": {},
   "source": [
    "Loading packages to be used later."
   ]
  },
  {
   "cell_type": "code",
   "execution_count": 1,
   "metadata": {},
   "outputs": [],
   "source": [
    "import sqlite3\n",
    "import pandas as pd\n",
    "import numpy as np\n",
    "from collections import Counter\n",
    "import seaborn as sns\n",
    "import matplotlib.pyplot as plt\n",
    "\n",
    "%matplotlib inline"
   ]
  },
  {
   "cell_type": "markdown",
   "metadata": {},
   "source": [
    "Connecting to the SQLITE file and putting it in a data frame."
   ]
  },
  {
   "cell_type": "code",
   "execution_count": 2,
   "metadata": {},
   "outputs": [],
   "source": [
    "conn = sqlite3.connect('wildfires.sqlite')\n",
    "\n",
    "fires = pd.read_sql_query(\"\"\"\n",
    "SELECT *\n",
    "FROM fires \n",
    "LIMIT 10000\n",
    "\"\"\", conn)"
   ]
  },
  {
   "cell_type": "code",
   "execution_count": 3,
   "metadata": {},
   "outputs": [
    {
     "data": {
      "text/html": [
       "<div>\n",
       "<style scoped>\n",
       "    .dataframe tbody tr th:only-of-type {\n",
       "        vertical-align: middle;\n",
       "    }\n",
       "\n",
       "    .dataframe tbody tr th {\n",
       "        vertical-align: top;\n",
       "    }\n",
       "\n",
       "    .dataframe thead th {\n",
       "        text-align: right;\n",
       "    }\n",
       "</style>\n",
       "<table border=\"1\" class=\"dataframe\">\n",
       "  <thead>\n",
       "    <tr style=\"text-align: right;\">\n",
       "      <th></th>\n",
       "      <th>OBJECTID</th>\n",
       "      <th>FOD_ID</th>\n",
       "      <th>FPA_ID</th>\n",
       "      <th>SOURCE_SYSTEM_TYPE</th>\n",
       "      <th>SOURCE_SYSTEM</th>\n",
       "      <th>NWCG_REPORTING_AGENCY</th>\n",
       "      <th>NWCG_REPORTING_UNIT_ID</th>\n",
       "      <th>NWCG_REPORTING_UNIT_NAME</th>\n",
       "      <th>SOURCE_REPORTING_UNIT</th>\n",
       "      <th>SOURCE_REPORTING_UNIT_NAME</th>\n",
       "      <th>...</th>\n",
       "      <th>FIRE_SIZE_CLASS</th>\n",
       "      <th>LATITUDE</th>\n",
       "      <th>LONGITUDE</th>\n",
       "      <th>OWNER_CODE</th>\n",
       "      <th>OWNER_DESCR</th>\n",
       "      <th>STATE</th>\n",
       "      <th>COUNTY</th>\n",
       "      <th>FIPS_CODE</th>\n",
       "      <th>FIPS_NAME</th>\n",
       "      <th>Shape</th>\n",
       "    </tr>\n",
       "  </thead>\n",
       "  <tbody>\n",
       "    <tr>\n",
       "      <th>0</th>\n",
       "      <td>1</td>\n",
       "      <td>1</td>\n",
       "      <td>FS-1418826</td>\n",
       "      <td>FED</td>\n",
       "      <td>FS-FIRESTAT</td>\n",
       "      <td>FS</td>\n",
       "      <td>USCAPNF</td>\n",
       "      <td>Plumas National Forest</td>\n",
       "      <td>0511</td>\n",
       "      <td>Plumas National Forest</td>\n",
       "      <td>...</td>\n",
       "      <td>A</td>\n",
       "      <td>40.036944</td>\n",
       "      <td>-121.005833</td>\n",
       "      <td>5.0</td>\n",
       "      <td>USFS</td>\n",
       "      <td>CA</td>\n",
       "      <td>63</td>\n",
       "      <td>063</td>\n",
       "      <td>Plumas</td>\n",
       "      <td>b'\\x00\\x01\\xad\\x10\\x00\\x00\\xe8d\\xc2\\x92_@^\\xc0...</td>\n",
       "    </tr>\n",
       "    <tr>\n",
       "      <th>1</th>\n",
       "      <td>2</td>\n",
       "      <td>2</td>\n",
       "      <td>FS-1418827</td>\n",
       "      <td>FED</td>\n",
       "      <td>FS-FIRESTAT</td>\n",
       "      <td>FS</td>\n",
       "      <td>USCAENF</td>\n",
       "      <td>Eldorado National Forest</td>\n",
       "      <td>0503</td>\n",
       "      <td>Eldorado National Forest</td>\n",
       "      <td>...</td>\n",
       "      <td>A</td>\n",
       "      <td>38.933056</td>\n",
       "      <td>-120.404444</td>\n",
       "      <td>5.0</td>\n",
       "      <td>USFS</td>\n",
       "      <td>CA</td>\n",
       "      <td>61</td>\n",
       "      <td>061</td>\n",
       "      <td>Placer</td>\n",
       "      <td>b'\\x00\\x01\\xad\\x10\\x00\\x00T\\xb6\\xeej\\xe2\\x19^\\...</td>\n",
       "    </tr>\n",
       "    <tr>\n",
       "      <th>2</th>\n",
       "      <td>3</td>\n",
       "      <td>3</td>\n",
       "      <td>FS-1418835</td>\n",
       "      <td>FED</td>\n",
       "      <td>FS-FIRESTAT</td>\n",
       "      <td>FS</td>\n",
       "      <td>USCAENF</td>\n",
       "      <td>Eldorado National Forest</td>\n",
       "      <td>0503</td>\n",
       "      <td>Eldorado National Forest</td>\n",
       "      <td>...</td>\n",
       "      <td>A</td>\n",
       "      <td>38.984167</td>\n",
       "      <td>-120.735556</td>\n",
       "      <td>13.0</td>\n",
       "      <td>STATE OR PRIVATE</td>\n",
       "      <td>CA</td>\n",
       "      <td>17</td>\n",
       "      <td>017</td>\n",
       "      <td>El Dorado</td>\n",
       "      <td>b'\\x00\\x01\\xad\\x10\\x00\\x00\\xd0\\xa5\\xa0W\\x13/^\\...</td>\n",
       "    </tr>\n",
       "    <tr>\n",
       "      <th>3</th>\n",
       "      <td>4</td>\n",
       "      <td>4</td>\n",
       "      <td>FS-1418845</td>\n",
       "      <td>FED</td>\n",
       "      <td>FS-FIRESTAT</td>\n",
       "      <td>FS</td>\n",
       "      <td>USCAENF</td>\n",
       "      <td>Eldorado National Forest</td>\n",
       "      <td>0503</td>\n",
       "      <td>Eldorado National Forest</td>\n",
       "      <td>...</td>\n",
       "      <td>A</td>\n",
       "      <td>38.559167</td>\n",
       "      <td>-119.913333</td>\n",
       "      <td>5.0</td>\n",
       "      <td>USFS</td>\n",
       "      <td>CA</td>\n",
       "      <td>3</td>\n",
       "      <td>003</td>\n",
       "      <td>Alpine</td>\n",
       "      <td>b'\\x00\\x01\\xad\\x10\\x00\\x00\\x94\\xac\\xa3\\rt\\xfa]...</td>\n",
       "    </tr>\n",
       "    <tr>\n",
       "      <th>4</th>\n",
       "      <td>5</td>\n",
       "      <td>5</td>\n",
       "      <td>FS-1418847</td>\n",
       "      <td>FED</td>\n",
       "      <td>FS-FIRESTAT</td>\n",
       "      <td>FS</td>\n",
       "      <td>USCAENF</td>\n",
       "      <td>Eldorado National Forest</td>\n",
       "      <td>0503</td>\n",
       "      <td>Eldorado National Forest</td>\n",
       "      <td>...</td>\n",
       "      <td>A</td>\n",
       "      <td>38.559167</td>\n",
       "      <td>-119.933056</td>\n",
       "      <td>5.0</td>\n",
       "      <td>USFS</td>\n",
       "      <td>CA</td>\n",
       "      <td>3</td>\n",
       "      <td>003</td>\n",
       "      <td>Alpine</td>\n",
       "      <td>b'\\x00\\x01\\xad\\x10\\x00\\x00@\\xe3\\xaa.\\xb7\\xfb]\\...</td>\n",
       "    </tr>\n",
       "  </tbody>\n",
       "</table>\n",
       "<p>5 rows × 39 columns</p>\n",
       "</div>"
      ],
      "text/plain": [
       "   OBJECTID  FOD_ID      FPA_ID SOURCE_SYSTEM_TYPE SOURCE_SYSTEM  \\\n",
       "0         1       1  FS-1418826                FED   FS-FIRESTAT   \n",
       "1         2       2  FS-1418827                FED   FS-FIRESTAT   \n",
       "2         3       3  FS-1418835                FED   FS-FIRESTAT   \n",
       "3         4       4  FS-1418845                FED   FS-FIRESTAT   \n",
       "4         5       5  FS-1418847                FED   FS-FIRESTAT   \n",
       "\n",
       "  NWCG_REPORTING_AGENCY NWCG_REPORTING_UNIT_ID  NWCG_REPORTING_UNIT_NAME  \\\n",
       "0                    FS                USCAPNF    Plumas National Forest   \n",
       "1                    FS                USCAENF  Eldorado National Forest   \n",
       "2                    FS                USCAENF  Eldorado National Forest   \n",
       "3                    FS                USCAENF  Eldorado National Forest   \n",
       "4                    FS                USCAENF  Eldorado National Forest   \n",
       "\n",
       "  SOURCE_REPORTING_UNIT SOURCE_REPORTING_UNIT_NAME  \\\n",
       "0                  0511     Plumas National Forest   \n",
       "1                  0503   Eldorado National Forest   \n",
       "2                  0503   Eldorado National Forest   \n",
       "3                  0503   Eldorado National Forest   \n",
       "4                  0503   Eldorado National Forest   \n",
       "\n",
       "                         ...                         FIRE_SIZE_CLASS  \\\n",
       "0                        ...                                       A   \n",
       "1                        ...                                       A   \n",
       "2                        ...                                       A   \n",
       "3                        ...                                       A   \n",
       "4                        ...                                       A   \n",
       "\n",
       "    LATITUDE   LONGITUDE OWNER_CODE       OWNER_DESCR STATE COUNTY FIPS_CODE  \\\n",
       "0  40.036944 -121.005833        5.0              USFS    CA     63       063   \n",
       "1  38.933056 -120.404444        5.0              USFS    CA     61       061   \n",
       "2  38.984167 -120.735556       13.0  STATE OR PRIVATE    CA     17       017   \n",
       "3  38.559167 -119.913333        5.0              USFS    CA      3       003   \n",
       "4  38.559167 -119.933056        5.0              USFS    CA      3       003   \n",
       "\n",
       "   FIPS_NAME                                              Shape  \n",
       "0     Plumas  b'\\x00\\x01\\xad\\x10\\x00\\x00\\xe8d\\xc2\\x92_@^\\xc0...  \n",
       "1     Placer  b'\\x00\\x01\\xad\\x10\\x00\\x00T\\xb6\\xeej\\xe2\\x19^\\...  \n",
       "2  El Dorado  b'\\x00\\x01\\xad\\x10\\x00\\x00\\xd0\\xa5\\xa0W\\x13/^\\...  \n",
       "3     Alpine  b'\\x00\\x01\\xad\\x10\\x00\\x00\\x94\\xac\\xa3\\rt\\xfa]...  \n",
       "4     Alpine  b'\\x00\\x01\\xad\\x10\\x00\\x00@\\xe3\\xaa.\\xb7\\xfb]\\...  \n",
       "\n",
       "[5 rows x 39 columns]"
      ]
     },
     "execution_count": 3,
     "metadata": {},
     "output_type": "execute_result"
    }
   ],
   "source": [
    "fires.head()"
   ]
  },
  {
   "cell_type": "markdown",
   "metadata": {},
   "source": [
    "Getting a list of all the variable names since we can't see all 39 variables in the table above."
   ]
  },
  {
   "cell_type": "code",
   "execution_count": 4,
   "metadata": {},
   "outputs": [
    {
     "data": {
      "text/plain": [
       "['OBJECTID',\n",
       " 'FOD_ID',\n",
       " 'FPA_ID',\n",
       " 'SOURCE_SYSTEM_TYPE',\n",
       " 'SOURCE_SYSTEM',\n",
       " 'NWCG_REPORTING_AGENCY',\n",
       " 'NWCG_REPORTING_UNIT_ID',\n",
       " 'NWCG_REPORTING_UNIT_NAME',\n",
       " 'SOURCE_REPORTING_UNIT',\n",
       " 'SOURCE_REPORTING_UNIT_NAME',\n",
       " 'LOCAL_FIRE_REPORT_ID',\n",
       " 'LOCAL_INCIDENT_ID',\n",
       " 'FIRE_CODE',\n",
       " 'FIRE_NAME',\n",
       " 'ICS_209_INCIDENT_NUMBER',\n",
       " 'ICS_209_NAME',\n",
       " 'MTBS_ID',\n",
       " 'MTBS_FIRE_NAME',\n",
       " 'COMPLEX_NAME',\n",
       " 'FIRE_YEAR',\n",
       " 'DISCOVERY_DATE',\n",
       " 'DISCOVERY_DOY',\n",
       " 'DISCOVERY_TIME',\n",
       " 'STAT_CAUSE_CODE',\n",
       " 'STAT_CAUSE_DESCR',\n",
       " 'CONT_DATE',\n",
       " 'CONT_DOY',\n",
       " 'CONT_TIME',\n",
       " 'FIRE_SIZE',\n",
       " 'FIRE_SIZE_CLASS',\n",
       " 'LATITUDE',\n",
       " 'LONGITUDE',\n",
       " 'OWNER_CODE',\n",
       " 'OWNER_DESCR',\n",
       " 'STATE',\n",
       " 'COUNTY',\n",
       " 'FIPS_CODE',\n",
       " 'FIPS_NAME',\n",
       " 'Shape']"
      ]
     },
     "execution_count": 4,
     "metadata": {},
     "output_type": "execute_result"
    }
   ],
   "source": [
    "list(fires)"
   ]
  },
  {
   "cell_type": "markdown",
   "metadata": {},
   "source": [
    "I want to create a new variable called LENGTH_OF_FIRE to determine how long between the time the fire was discovered and the time when the fire was contained"
   ]
  },
  {
   "cell_type": "code",
   "execution_count": 5,
   "metadata": {},
   "outputs": [],
   "source": [
    "fires['LENGTH_OF_FIRE'] = fires['CONT_DATE'] - fires['DISCOVERY_DATE']"
   ]
  },
  {
   "cell_type": "markdown",
   "metadata": {},
   "source": [
    "I want to see the descriptive statistics for the quantitative variables in the data frame like the mean and standard deviation"
   ]
  },
  {
   "cell_type": "code",
   "execution_count": 6,
   "metadata": {},
   "outputs": [
    {
     "data": {
      "text/html": [
       "<div>\n",
       "<style scoped>\n",
       "    .dataframe tbody tr th:only-of-type {\n",
       "        vertical-align: middle;\n",
       "    }\n",
       "\n",
       "    .dataframe tbody tr th {\n",
       "        vertical-align: top;\n",
       "    }\n",
       "\n",
       "    .dataframe thead th {\n",
       "        text-align: right;\n",
       "    }\n",
       "</style>\n",
       "<table border=\"1\" class=\"dataframe\">\n",
       "  <thead>\n",
       "    <tr style=\"text-align: right;\">\n",
       "      <th></th>\n",
       "      <th>OBJECTID</th>\n",
       "      <th>FOD_ID</th>\n",
       "      <th>FIRE_YEAR</th>\n",
       "      <th>DISCOVERY_DATE</th>\n",
       "      <th>DISCOVERY_DOY</th>\n",
       "      <th>STAT_CAUSE_CODE</th>\n",
       "      <th>CONT_DATE</th>\n",
       "      <th>CONT_DOY</th>\n",
       "      <th>FIRE_SIZE</th>\n",
       "      <th>LATITUDE</th>\n",
       "      <th>LONGITUDE</th>\n",
       "      <th>OWNER_CODE</th>\n",
       "      <th>LENGTH_OF_FIRE</th>\n",
       "    </tr>\n",
       "  </thead>\n",
       "  <tbody>\n",
       "    <tr>\n",
       "      <th>count</th>\n",
       "      <td>10000.00000</td>\n",
       "      <td>10000.000000</td>\n",
       "      <td>10000.000000</td>\n",
       "      <td>1.000000e+04</td>\n",
       "      <td>10000.000000</td>\n",
       "      <td>10000.000000</td>\n",
       "      <td>9.965000e+03</td>\n",
       "      <td>9965.000000</td>\n",
       "      <td>10000.000000</td>\n",
       "      <td>10000.000000</td>\n",
       "      <td>10000.000000</td>\n",
       "      <td>10000.000000</td>\n",
       "      <td>9965.000000</td>\n",
       "    </tr>\n",
       "    <tr>\n",
       "      <th>mean</th>\n",
       "      <td>5000.50000</td>\n",
       "      <td>5026.004800</td>\n",
       "      <td>2005.306600</td>\n",
       "      <td>2.453667e+06</td>\n",
       "      <td>184.363900</td>\n",
       "      <td>3.606500</td>\n",
       "      <td>2.453669e+06</td>\n",
       "      <td>186.754441</td>\n",
       "      <td>132.335243</td>\n",
       "      <td>38.903469</td>\n",
       "      <td>-108.398999</td>\n",
       "      <td>6.420400</td>\n",
       "      <td>2.346412</td>\n",
       "    </tr>\n",
       "    <tr>\n",
       "      <th>std</th>\n",
       "      <td>2886.89568</td>\n",
       "      <td>2898.779364</td>\n",
       "      <td>0.471189</td>\n",
       "      <td>1.564229e+02</td>\n",
       "      <td>68.229189</td>\n",
       "      <td>3.006054</td>\n",
       "      <td>1.560452e+02</td>\n",
       "      <td>69.604778</td>\n",
       "      <td>4544.894163</td>\n",
       "      <td>5.342730</td>\n",
       "      <td>11.907098</td>\n",
       "      <td>3.133025</td>\n",
       "      <td>10.941710</td>\n",
       "    </tr>\n",
       "    <tr>\n",
       "      <th>min</th>\n",
       "      <td>1.00000</td>\n",
       "      <td>1.000000</td>\n",
       "      <td>2002.000000</td>\n",
       "      <td>2.452468e+06</td>\n",
       "      <td>1.000000</td>\n",
       "      <td>1.000000</td>\n",
       "      <td>2.452470e+06</td>\n",
       "      <td>1.000000</td>\n",
       "      <td>0.010000</td>\n",
       "      <td>28.122222</td>\n",
       "      <td>-149.440000</td>\n",
       "      <td>5.000000</td>\n",
       "      <td>0.000000</td>\n",
       "    </tr>\n",
       "    <tr>\n",
       "      <th>25%</th>\n",
       "      <td>2500.75000</td>\n",
       "      <td>2516.750000</td>\n",
       "      <td>2005.000000</td>\n",
       "      <td>2.453568e+06</td>\n",
       "      <td>148.000000</td>\n",
       "      <td>1.000000</td>\n",
       "      <td>2.453568e+06</td>\n",
       "      <td>149.000000</td>\n",
       "      <td>0.100000</td>\n",
       "      <td>34.526319</td>\n",
       "      <td>-117.780625</td>\n",
       "      <td>5.000000</td>\n",
       "      <td>0.000000</td>\n",
       "    </tr>\n",
       "    <tr>\n",
       "      <th>50%</th>\n",
       "      <td>5000.50000</td>\n",
       "      <td>5023.500000</td>\n",
       "      <td>2005.000000</td>\n",
       "      <td>2.453604e+06</td>\n",
       "      <td>196.000000</td>\n",
       "      <td>2.000000</td>\n",
       "      <td>2.453608e+06</td>\n",
       "      <td>197.000000</td>\n",
       "      <td>0.200000</td>\n",
       "      <td>37.441250</td>\n",
       "      <td>-111.484028</td>\n",
       "      <td>5.000000</td>\n",
       "      <td>0.000000</td>\n",
       "    </tr>\n",
       "    <tr>\n",
       "      <th>75%</th>\n",
       "      <td>7500.25000</td>\n",
       "      <td>7537.250000</td>\n",
       "      <td>2006.000000</td>\n",
       "      <td>2.453820e+06</td>\n",
       "      <td>221.000000</td>\n",
       "      <td>7.000000</td>\n",
       "      <td>2.453822e+06</td>\n",
       "      <td>224.000000</td>\n",
       "      <td>1.700000</td>\n",
       "      <td>44.030278</td>\n",
       "      <td>-104.180208</td>\n",
       "      <td>5.000000</td>\n",
       "      <td>1.000000</td>\n",
       "    </tr>\n",
       "    <tr>\n",
       "      <th>max</th>\n",
       "      <td>10000.00000</td>\n",
       "      <td>10047.000000</td>\n",
       "      <td>2008.000000</td>\n",
       "      <td>2.454564e+06</td>\n",
       "      <td>365.000000</td>\n",
       "      <td>9.000000</td>\n",
       "      <td>2.454564e+06</td>\n",
       "      <td>365.000000</td>\n",
       "      <td>427696.000000</td>\n",
       "      <td>60.885000</td>\n",
       "      <td>-71.450000</td>\n",
       "      <td>14.000000</td>\n",
       "      <td>150.000000</td>\n",
       "    </tr>\n",
       "  </tbody>\n",
       "</table>\n",
       "</div>"
      ],
      "text/plain": [
       "          OBJECTID        FOD_ID     FIRE_YEAR  DISCOVERY_DATE  DISCOVERY_DOY  \\\n",
       "count  10000.00000  10000.000000  10000.000000    1.000000e+04   10000.000000   \n",
       "mean    5000.50000   5026.004800   2005.306600    2.453667e+06     184.363900   \n",
       "std     2886.89568   2898.779364      0.471189    1.564229e+02      68.229189   \n",
       "min        1.00000      1.000000   2002.000000    2.452468e+06       1.000000   \n",
       "25%     2500.75000   2516.750000   2005.000000    2.453568e+06     148.000000   \n",
       "50%     5000.50000   5023.500000   2005.000000    2.453604e+06     196.000000   \n",
       "75%     7500.25000   7537.250000   2006.000000    2.453820e+06     221.000000   \n",
       "max    10000.00000  10047.000000   2008.000000    2.454564e+06     365.000000   \n",
       "\n",
       "       STAT_CAUSE_CODE     CONT_DATE     CONT_DOY      FIRE_SIZE  \\\n",
       "count     10000.000000  9.965000e+03  9965.000000   10000.000000   \n",
       "mean          3.606500  2.453669e+06   186.754441     132.335243   \n",
       "std           3.006054  1.560452e+02    69.604778    4544.894163   \n",
       "min           1.000000  2.452470e+06     1.000000       0.010000   \n",
       "25%           1.000000  2.453568e+06   149.000000       0.100000   \n",
       "50%           2.000000  2.453608e+06   197.000000       0.200000   \n",
       "75%           7.000000  2.453822e+06   224.000000       1.700000   \n",
       "max           9.000000  2.454564e+06   365.000000  427696.000000   \n",
       "\n",
       "           LATITUDE     LONGITUDE    OWNER_CODE  LENGTH_OF_FIRE  \n",
       "count  10000.000000  10000.000000  10000.000000     9965.000000  \n",
       "mean      38.903469   -108.398999      6.420400        2.346412  \n",
       "std        5.342730     11.907098      3.133025       10.941710  \n",
       "min       28.122222   -149.440000      5.000000        0.000000  \n",
       "25%       34.526319   -117.780625      5.000000        0.000000  \n",
       "50%       37.441250   -111.484028      5.000000        0.000000  \n",
       "75%       44.030278   -104.180208      5.000000        1.000000  \n",
       "max       60.885000    -71.450000     14.000000      150.000000  "
      ]
     },
     "execution_count": 6,
     "metadata": {},
     "output_type": "execute_result"
    }
   ],
   "source": [
    "fires.describe()"
   ]
  },
  {
   "cell_type": "markdown",
   "metadata": {},
   "source": [
    "I want to look at the correlation between each of the quantitative variables so I can know which ones are related"
   ]
  },
  {
   "cell_type": "code",
   "execution_count": 7,
   "metadata": {},
   "outputs": [
    {
     "data": {
      "text/html": [
       "<div>\n",
       "<style scoped>\n",
       "    .dataframe tbody tr th:only-of-type {\n",
       "        vertical-align: middle;\n",
       "    }\n",
       "\n",
       "    .dataframe tbody tr th {\n",
       "        vertical-align: top;\n",
       "    }\n",
       "\n",
       "    .dataframe thead th {\n",
       "        text-align: right;\n",
       "    }\n",
       "</style>\n",
       "<table border=\"1\" class=\"dataframe\">\n",
       "  <thead>\n",
       "    <tr style=\"text-align: right;\">\n",
       "      <th></th>\n",
       "      <th>OBJECTID</th>\n",
       "      <th>FOD_ID</th>\n",
       "      <th>FIRE_YEAR</th>\n",
       "      <th>DISCOVERY_DATE</th>\n",
       "      <th>DISCOVERY_DOY</th>\n",
       "      <th>STAT_CAUSE_CODE</th>\n",
       "      <th>CONT_DATE</th>\n",
       "      <th>CONT_DOY</th>\n",
       "      <th>FIRE_SIZE</th>\n",
       "      <th>LATITUDE</th>\n",
       "      <th>LONGITUDE</th>\n",
       "      <th>OWNER_CODE</th>\n",
       "      <th>LENGTH_OF_FIRE</th>\n",
       "    </tr>\n",
       "  </thead>\n",
       "  <tbody>\n",
       "    <tr>\n",
       "      <th>OBJECTID</th>\n",
       "      <td>1.000000</td>\n",
       "      <td>1.000000</td>\n",
       "      <td>0.792683</td>\n",
       "      <td>0.801715</td>\n",
       "      <td>-0.160159</td>\n",
       "      <td>0.041981</td>\n",
       "      <td>0.803225</td>\n",
       "      <td>-0.160537</td>\n",
       "      <td>0.008081</td>\n",
       "      <td>-0.192383</td>\n",
       "      <td>0.080433</td>\n",
       "      <td>0.033676</td>\n",
       "      <td>-0.005924</td>\n",
       "    </tr>\n",
       "    <tr>\n",
       "      <th>FOD_ID</th>\n",
       "      <td>1.000000</td>\n",
       "      <td>1.000000</td>\n",
       "      <td>0.792929</td>\n",
       "      <td>0.801927</td>\n",
       "      <td>-0.160292</td>\n",
       "      <td>0.041942</td>\n",
       "      <td>0.803431</td>\n",
       "      <td>-0.160678</td>\n",
       "      <td>0.008072</td>\n",
       "      <td>-0.192399</td>\n",
       "      <td>0.080422</td>\n",
       "      <td>0.033648</td>\n",
       "      <td>-0.006010</td>\n",
       "    </tr>\n",
       "    <tr>\n",
       "      <th>FIRE_YEAR</th>\n",
       "      <td>0.792683</td>\n",
       "      <td>0.792929</td>\n",
       "      <td>1.000000</td>\n",
       "      <td>0.917981</td>\n",
       "      <td>-0.416271</td>\n",
       "      <td>0.030183</td>\n",
       "      <td>0.914489</td>\n",
       "      <td>-0.419909</td>\n",
       "      <td>0.002084</td>\n",
       "      <td>-0.171598</td>\n",
       "      <td>0.087035</td>\n",
       "      <td>0.032454</td>\n",
       "      <td>-0.080686</td>\n",
       "    </tr>\n",
       "    <tr>\n",
       "      <th>DISCOVERY_DATE</th>\n",
       "      <td>0.801715</td>\n",
       "      <td>0.801927</td>\n",
       "      <td>0.917981</td>\n",
       "      <td>1.000000</td>\n",
       "      <td>-0.021501</td>\n",
       "      <td>-0.067759</td>\n",
       "      <td>0.997548</td>\n",
       "      <td>-0.033619</td>\n",
       "      <td>-0.003470</td>\n",
       "      <td>-0.089941</td>\n",
       "      <td>-0.055028</td>\n",
       "      <td>-0.028611</td>\n",
       "      <td>-0.063198</td>\n",
       "    </tr>\n",
       "    <tr>\n",
       "      <th>DISCOVERY_DOY</th>\n",
       "      <td>-0.160159</td>\n",
       "      <td>-0.160292</td>\n",
       "      <td>-0.416271</td>\n",
       "      <td>-0.021501</td>\n",
       "      <td>1.000000</td>\n",
       "      <td>-0.231450</td>\n",
       "      <td>-0.019442</td>\n",
       "      <td>0.983380</td>\n",
       "      <td>-0.013182</td>\n",
       "      <td>0.226311</td>\n",
       "      <td>-0.345562</td>\n",
       "      <td>-0.147399</td>\n",
       "      <td>0.058677</td>\n",
       "    </tr>\n",
       "    <tr>\n",
       "      <th>STAT_CAUSE_CODE</th>\n",
       "      <td>0.041981</td>\n",
       "      <td>0.041942</td>\n",
       "      <td>0.030183</td>\n",
       "      <td>-0.067759</td>\n",
       "      <td>-0.231450</td>\n",
       "      <td>1.000000</td>\n",
       "      <td>-0.076008</td>\n",
       "      <td>-0.245506</td>\n",
       "      <td>0.010937</td>\n",
       "      <td>-0.191455</td>\n",
       "      <td>0.328979</td>\n",
       "      <td>0.301720</td>\n",
       "      <td>-0.126821</td>\n",
       "    </tr>\n",
       "    <tr>\n",
       "      <th>CONT_DATE</th>\n",
       "      <td>0.803225</td>\n",
       "      <td>0.803431</td>\n",
       "      <td>0.914489</td>\n",
       "      <td>0.997548</td>\n",
       "      <td>-0.019442</td>\n",
       "      <td>-0.076008</td>\n",
       "      <td>1.000000</td>\n",
       "      <td>-0.018637</td>\n",
       "      <td>0.006341</td>\n",
       "      <td>-0.083469</td>\n",
       "      <td>-0.056877</td>\n",
       "      <td>-0.033047</td>\n",
       "      <td>0.006796</td>\n",
       "    </tr>\n",
       "    <tr>\n",
       "      <th>CONT_DOY</th>\n",
       "      <td>-0.160537</td>\n",
       "      <td>-0.160678</td>\n",
       "      <td>-0.419909</td>\n",
       "      <td>-0.033619</td>\n",
       "      <td>0.983380</td>\n",
       "      <td>-0.245506</td>\n",
       "      <td>-0.018637</td>\n",
       "      <td>1.000000</td>\n",
       "      <td>-0.000682</td>\n",
       "      <td>0.238433</td>\n",
       "      <td>-0.345708</td>\n",
       "      <td>-0.156637</td>\n",
       "      <td>0.214605</td>\n",
       "    </tr>\n",
       "    <tr>\n",
       "      <th>FIRE_SIZE</th>\n",
       "      <td>0.008081</td>\n",
       "      <td>0.008072</td>\n",
       "      <td>0.002084</td>\n",
       "      <td>-0.003470</td>\n",
       "      <td>-0.013182</td>\n",
       "      <td>0.010937</td>\n",
       "      <td>0.006341</td>\n",
       "      <td>-0.000682</td>\n",
       "      <td>1.000000</td>\n",
       "      <td>-0.007596</td>\n",
       "      <td>0.002949</td>\n",
       "      <td>0.024272</td>\n",
       "      <td>0.072575</td>\n",
       "    </tr>\n",
       "    <tr>\n",
       "      <th>LATITUDE</th>\n",
       "      <td>-0.192383</td>\n",
       "      <td>-0.192399</td>\n",
       "      <td>-0.171598</td>\n",
       "      <td>-0.089941</td>\n",
       "      <td>0.226311</td>\n",
       "      <td>-0.191455</td>\n",
       "      <td>-0.083469</td>\n",
       "      <td>0.238433</td>\n",
       "      <td>-0.007596</td>\n",
       "      <td>1.000000</td>\n",
       "      <td>-0.443668</td>\n",
       "      <td>-0.058244</td>\n",
       "      <td>0.099594</td>\n",
       "    </tr>\n",
       "    <tr>\n",
       "      <th>LONGITUDE</th>\n",
       "      <td>0.080433</td>\n",
       "      <td>0.080422</td>\n",
       "      <td>0.087035</td>\n",
       "      <td>-0.055028</td>\n",
       "      <td>-0.345562</td>\n",
       "      <td>0.328979</td>\n",
       "      <td>-0.056877</td>\n",
       "      <td>-0.345708</td>\n",
       "      <td>0.002949</td>\n",
       "      <td>-0.443668</td>\n",
       "      <td>1.000000</td>\n",
       "      <td>0.176301</td>\n",
       "      <td>-0.051839</td>\n",
       "    </tr>\n",
       "    <tr>\n",
       "      <th>OWNER_CODE</th>\n",
       "      <td>0.033676</td>\n",
       "      <td>0.033648</td>\n",
       "      <td>0.032454</td>\n",
       "      <td>-0.028611</td>\n",
       "      <td>-0.147399</td>\n",
       "      <td>0.301720</td>\n",
       "      <td>-0.033047</td>\n",
       "      <td>-0.156637</td>\n",
       "      <td>0.024272</td>\n",
       "      <td>-0.058244</td>\n",
       "      <td>0.176301</td>\n",
       "      <td>1.000000</td>\n",
       "      <td>-0.068505</td>\n",
       "    </tr>\n",
       "    <tr>\n",
       "      <th>LENGTH_OF_FIRE</th>\n",
       "      <td>-0.005924</td>\n",
       "      <td>-0.006010</td>\n",
       "      <td>-0.080686</td>\n",
       "      <td>-0.063198</td>\n",
       "      <td>0.058677</td>\n",
       "      <td>-0.126821</td>\n",
       "      <td>0.006796</td>\n",
       "      <td>0.214605</td>\n",
       "      <td>0.072575</td>\n",
       "      <td>0.099594</td>\n",
       "      <td>-0.051839</td>\n",
       "      <td>-0.068505</td>\n",
       "      <td>1.000000</td>\n",
       "    </tr>\n",
       "  </tbody>\n",
       "</table>\n",
       "</div>"
      ],
      "text/plain": [
       "                 OBJECTID    FOD_ID  FIRE_YEAR  DISCOVERY_DATE  DISCOVERY_DOY  \\\n",
       "OBJECTID         1.000000  1.000000   0.792683        0.801715      -0.160159   \n",
       "FOD_ID           1.000000  1.000000   0.792929        0.801927      -0.160292   \n",
       "FIRE_YEAR        0.792683  0.792929   1.000000        0.917981      -0.416271   \n",
       "DISCOVERY_DATE   0.801715  0.801927   0.917981        1.000000      -0.021501   \n",
       "DISCOVERY_DOY   -0.160159 -0.160292  -0.416271       -0.021501       1.000000   \n",
       "STAT_CAUSE_CODE  0.041981  0.041942   0.030183       -0.067759      -0.231450   \n",
       "CONT_DATE        0.803225  0.803431   0.914489        0.997548      -0.019442   \n",
       "CONT_DOY        -0.160537 -0.160678  -0.419909       -0.033619       0.983380   \n",
       "FIRE_SIZE        0.008081  0.008072   0.002084       -0.003470      -0.013182   \n",
       "LATITUDE        -0.192383 -0.192399  -0.171598       -0.089941       0.226311   \n",
       "LONGITUDE        0.080433  0.080422   0.087035       -0.055028      -0.345562   \n",
       "OWNER_CODE       0.033676  0.033648   0.032454       -0.028611      -0.147399   \n",
       "LENGTH_OF_FIRE  -0.005924 -0.006010  -0.080686       -0.063198       0.058677   \n",
       "\n",
       "                 STAT_CAUSE_CODE  CONT_DATE  CONT_DOY  FIRE_SIZE  LATITUDE  \\\n",
       "OBJECTID                0.041981   0.803225 -0.160537   0.008081 -0.192383   \n",
       "FOD_ID                  0.041942   0.803431 -0.160678   0.008072 -0.192399   \n",
       "FIRE_YEAR               0.030183   0.914489 -0.419909   0.002084 -0.171598   \n",
       "DISCOVERY_DATE         -0.067759   0.997548 -0.033619  -0.003470 -0.089941   \n",
       "DISCOVERY_DOY          -0.231450  -0.019442  0.983380  -0.013182  0.226311   \n",
       "STAT_CAUSE_CODE         1.000000  -0.076008 -0.245506   0.010937 -0.191455   \n",
       "CONT_DATE              -0.076008   1.000000 -0.018637   0.006341 -0.083469   \n",
       "CONT_DOY               -0.245506  -0.018637  1.000000  -0.000682  0.238433   \n",
       "FIRE_SIZE               0.010937   0.006341 -0.000682   1.000000 -0.007596   \n",
       "LATITUDE               -0.191455  -0.083469  0.238433  -0.007596  1.000000   \n",
       "LONGITUDE               0.328979  -0.056877 -0.345708   0.002949 -0.443668   \n",
       "OWNER_CODE              0.301720  -0.033047 -0.156637   0.024272 -0.058244   \n",
       "LENGTH_OF_FIRE         -0.126821   0.006796  0.214605   0.072575  0.099594   \n",
       "\n",
       "                 LONGITUDE  OWNER_CODE  LENGTH_OF_FIRE  \n",
       "OBJECTID          0.080433    0.033676       -0.005924  \n",
       "FOD_ID            0.080422    0.033648       -0.006010  \n",
       "FIRE_YEAR         0.087035    0.032454       -0.080686  \n",
       "DISCOVERY_DATE   -0.055028   -0.028611       -0.063198  \n",
       "DISCOVERY_DOY    -0.345562   -0.147399        0.058677  \n",
       "STAT_CAUSE_CODE   0.328979    0.301720       -0.126821  \n",
       "CONT_DATE        -0.056877   -0.033047        0.006796  \n",
       "CONT_DOY         -0.345708   -0.156637        0.214605  \n",
       "FIRE_SIZE         0.002949    0.024272        0.072575  \n",
       "LATITUDE         -0.443668   -0.058244        0.099594  \n",
       "LONGITUDE         1.000000    0.176301       -0.051839  \n",
       "OWNER_CODE        0.176301    1.000000       -0.068505  \n",
       "LENGTH_OF_FIRE   -0.051839   -0.068505        1.000000  "
      ]
     },
     "execution_count": 7,
     "metadata": {},
     "output_type": "execute_result"
    }
   ],
   "source": [
    "fires.corr()"
   ]
  },
  {
   "cell_type": "markdown",
   "metadata": {},
   "source": [
    "We can look at the 10 states with the most fires. This can help us know which areas need the most amount of attention in terms of fire prevention and containment."
   ]
  },
  {
   "cell_type": "code",
   "execution_count": 8,
   "metadata": {},
   "outputs": [
    {
     "name": "stdout",
     "output_type": "stream",
     "text": [
      "[('AZ', 1521), ('CA', 1491), ('OR', 972), ('NM', 872), ('MT', 736), ('ID', 697), ('CO', 402), ('MO', 367), ('UT', 270), ('MS', 247)]\n"
     ]
    }
   ],
   "source": [
    "print(Counter(fires['STATE']).most_common(10))"
   ]
  },
  {
   "cell_type": "markdown",
   "metadata": {},
   "source": [
    "Making side-by-side boxplots for Latitude/Longitude against Fire Size Class. This can help us see if certain latitudes or longitudes are more at risk for larger fires."
   ]
  },
  {
   "cell_type": "code",
   "execution_count": 9,
   "metadata": {},
   "outputs": [
    {
     "data": {
      "text/plain": [
       "Text(0.5, 1.0, 'Latitude by Fire Size Class')"
      ]
     },
     "execution_count": 9,
     "metadata": {},
     "output_type": "execute_result"
    },
    {
     "data": {
      "image/png": "[encoded data removed]",
      "text/plain": [
       "<Figure size 432x288 with 1 Axes>"
      ]
     },
     "metadata": {},
     "output_type": "display_data"
    }
   ],
   "source": [
    "sns.boxplot(x = 'FIRE_SIZE_CLASS', y = 'LATITUDE', data = fires)\n",
    "plt.title('Latitude by Fire Size Class')"
   ]
  },
  {
   "cell_type": "code",
   "execution_count": 10,
   "metadata": {},
   "outputs": [
    {
     "data": {
      "text/plain": [
       "Text(0.5, 1.0, 'Longitude by Fire Size Class')"
      ]
     },
     "execution_count": 10,
     "metadata": {},
     "output_type": "execute_result"
    },
    {
     "data": {
      "image/png": "[encoded data removed]",
      "text/plain": [
       "<Figure size 432x288 with 1 Axes>"
      ]
     },
     "metadata": {},
     "output_type": "display_data"
    }
   ],
   "source": [
    "sns.boxplot(x = 'FIRE_SIZE_CLASS', y = 'LONGITUDE', data = fires)\n",
    "plt.title('Longitude by Fire Size Class')"
   ]
  },
  {
   "cell_type": "markdown",
   "metadata": {},
   "source": [
    "I want to look at how long each of the fires lasted. We can look at the average number of days the fire was active. We can also look at the length of fire by Fire Size Class"
   ]
  },
  {
   "cell_type": "code",
   "execution_count": 11,
   "metadata": {},
   "outputs": [
    {
     "data": {
      "text/plain": [
       "2.3464124435524334"
      ]
     },
     "execution_count": 11,
     "metadata": {},
     "output_type": "execute_result"
    }
   ],
   "source": [
    "np.mean(fires['LENGTH_OF_FIRE'])"
   ]
  },
  {
   "cell_type": "markdown",
   "metadata": {},
   "source": [
    "The following graph tells us that F and G fires last a lot longer on average than the other fire classes. This makes sens that it would be harder to contain bigger fires."
   ]
  },
  {
   "cell_type": "code",
   "execution_count": 12,
   "metadata": {},
   "outputs": [
    {
     "data": {
      "text/plain": [
       "Text(0.5, 1.0, 'Length of Fire by Fire Size Class')"
      ]
     },
     "execution_count": 12,
     "metadata": {},
     "output_type": "execute_result"
    },
    {
     "data": {
      "image/png": "[encoded data removed]",
      "text/plain": [
       "<Figure size 432x288 with 1 Axes>"
      ]
     },
     "metadata": {},
     "output_type": "display_data"
    }
   ],
   "source": [
    "sns.boxplot(x = 'FIRE_SIZE_CLASS', y = 'LENGTH_OF_FIRE', data = fires)\n",
    "plt.title('Length of Fire by Fire Size Class')"
   ]
  },
  {
   "cell_type": "markdown",
   "metadata": {},
   "source": [
    "We can also find the average length of fire for each fire class:"
   ]
  },
  {
   "cell_type": "code",
   "execution_count": 13,
   "metadata": {},
   "outputs": [
    {
     "data": {
      "text/plain": [
       "FIRE_SIZE_CLASS\n",
       "A     1.213185\n",
       "B     1.849567\n",
       "C     3.532391\n",
       "D    12.482955\n",
       "E    16.622642\n",
       "F    34.916667\n",
       "G    40.243243\n",
       "Name: LENGTH_OF_FIRE, dtype: float64"
      ]
     },
     "execution_count": 13,
     "metadata": {},
     "output_type": "execute_result"
    }
   ],
   "source": [
    "fires.groupby(['FIRE_SIZE_CLASS'])['LENGTH_OF_FIRE'].mean()"
   ]
  },
  {
   "cell_type": "markdown",
   "metadata": {},
   "source": [
    "We can similarly find the average length of fire for each state. This can help us see which states are doing well with their fire containment and which ones could improve. We can see that fires in North Dakota and Idaho last much longer than fires in other states."
   ]
  },
  {
   "cell_type": "code",
   "execution_count": 14,
   "metadata": {
    "scrolled": true
   },
   "outputs": [
    {
     "data": {
      "text/plain": [
       "STATE\n",
       "AK     0.512821\n",
       "AL     0.243243\n",
       "AR     0.910714\n",
       "AZ     1.098026\n",
       "CA     0.883893\n",
       "CO     2.725686\n",
       "FL     1.208861\n",
       "GA     0.336957\n",
       "ID    12.695839\n",
       "IL     0.411765\n",
       "IN     0.120000\n",
       "KS     0.250000\n",
       "KY     0.893082\n",
       "LA     0.107914\n",
       "MI     0.828947\n",
       "MN     1.063063\n",
       "MO     0.140401\n",
       "MS     1.538462\n",
       "MT     2.940054\n",
       "NC     0.117647\n",
       "ND    42.777778\n",
       "NE     0.272727\n",
       "NH     0.000000\n",
       "NM     3.770115\n",
       "NV     0.840708\n",
       "OH     0.000000\n",
       "OK     0.135922\n",
       "OR     0.754115\n",
       "PA     0.500000\n",
       "SC     2.193548\n",
       "SD     0.449704\n",
       "TN     0.000000\n",
       "TX     0.546667\n",
       "UT     4.411111\n",
       "VA     1.290323\n",
       "WA     1.083333\n",
       "WI     0.135593\n",
       "WV     0.117647\n",
       "WY     3.527919\n",
       "Name: LENGTH_OF_FIRE, dtype: float64"
      ]
     },
     "execution_count": 14,
     "metadata": {},
     "output_type": "execute_result"
    }
   ],
   "source": [
    "fires.groupby(['STATE'])['LENGTH_OF_FIRE'].mean()"
   ]
  },
  {
   "cell_type": "markdown",
   "metadata": {},
   "source": [
    "We can plot the length of fire against the fire size to see if the fire size increases the length of fire"
   ]
  },
  {
   "cell_type": "code",
   "execution_count": 15,
   "metadata": {},
   "outputs": [
    {
     "data": {
      "text/plain": [
       "Text(0.5, 1.0, 'Length of Fire vs. Fire Size')"
      ]
     },
     "execution_count": 15,
     "metadata": {},
     "output_type": "execute_result"
    },
    {
     "data": {
      "image/png": "[encoded data removed]",
      "text/plain": [
       "<Figure size 360x360 with 1 Axes>"
      ]
     },
     "metadata": {},
     "output_type": "display_data"
    }
   ],
   "source": [
    "sns.lmplot('FIRE_SIZE', 'LENGTH_OF_FIRE', data = fires)\n",
    "plt.title('Length of Fire vs. Fire Size')"
   ]
  },
  {
   "cell_type": "markdown",
   "metadata": {},
   "source": [
    "There is a pretty obvious outier where there's a fire size above 400000 while the rest of the fires have sizes less than 100000. We can clean the data by droping that observation temporarily to look at the above graph again to try and get a little more interpretability out of it."
   ]
  },
  {
   "cell_type": "code",
   "execution_count": 16,
   "metadata": {},
   "outputs": [
    {
     "data": {
      "text/html": [
       "<div>\n",
       "<style scoped>\n",
       "    .dataframe tbody tr th:only-of-type {\n",
       "        vertical-align: middle;\n",
       "    }\n",
       "\n",
       "    .dataframe tbody tr th {\n",
       "        vertical-align: top;\n",
       "    }\n",
       "\n",
       "    .dataframe thead th {\n",
       "        text-align: right;\n",
       "    }\n",
       "</style>\n",
       "<table border=\"1\" class=\"dataframe\">\n",
       "  <thead>\n",
       "    <tr style=\"text-align: right;\">\n",
       "      <th></th>\n",
       "      <th>OBJECTID</th>\n",
       "      <th>FOD_ID</th>\n",
       "      <th>FPA_ID</th>\n",
       "      <th>SOURCE_SYSTEM_TYPE</th>\n",
       "      <th>SOURCE_SYSTEM</th>\n",
       "      <th>NWCG_REPORTING_AGENCY</th>\n",
       "      <th>NWCG_REPORTING_UNIT_ID</th>\n",
       "      <th>NWCG_REPORTING_UNIT_NAME</th>\n",
       "      <th>SOURCE_REPORTING_UNIT</th>\n",
       "      <th>SOURCE_REPORTING_UNIT_NAME</th>\n",
       "      <th>...</th>\n",
       "      <th>LATITUDE</th>\n",
       "      <th>LONGITUDE</th>\n",
       "      <th>OWNER_CODE</th>\n",
       "      <th>OWNER_DESCR</th>\n",
       "      <th>STATE</th>\n",
       "      <th>COUNTY</th>\n",
       "      <th>FIPS_CODE</th>\n",
       "      <th>FIPS_NAME</th>\n",
       "      <th>Shape</th>\n",
       "      <th>LENGTH_OF_FIRE</th>\n",
       "    </tr>\n",
       "  </thead>\n",
       "  <tbody>\n",
       "    <tr>\n",
       "      <th>7412</th>\n",
       "      <td>7413</td>\n",
       "      <td>7449</td>\n",
       "      <td>FS-1433115</td>\n",
       "      <td>FED</td>\n",
       "      <td>FS-FIRESTAT</td>\n",
       "      <td>FS</td>\n",
       "      <td>USNMCIF</td>\n",
       "      <td>Cibola National Forest</td>\n",
       "      <td>0303</td>\n",
       "      <td>Cibola National Forest</td>\n",
       "      <td>...</td>\n",
       "      <td>35.216667</td>\n",
       "      <td>-100.933333</td>\n",
       "      <td>14.0</td>\n",
       "      <td>MISSING/NOT SPECIFIED</td>\n",
       "      <td>TX</td>\n",
       "      <td>179</td>\n",
       "      <td>179</td>\n",
       "      <td>Gray</td>\n",
       "      <td>b\"\\x00\\x01\\xad\\x10\\x00\\x00x'\\xb8\\xbb\\xbb;Y\\xc0...</td>\n",
       "      <td>7.0</td>\n",
       "    </tr>\n",
       "  </tbody>\n",
       "</table>\n",
       "<p>1 rows × 40 columns</p>\n",
       "</div>"
      ],
      "text/plain": [
       "      OBJECTID  FOD_ID      FPA_ID SOURCE_SYSTEM_TYPE SOURCE_SYSTEM  \\\n",
       "7412      7413    7449  FS-1433115                FED   FS-FIRESTAT   \n",
       "\n",
       "     NWCG_REPORTING_AGENCY NWCG_REPORTING_UNIT_ID NWCG_REPORTING_UNIT_NAME  \\\n",
       "7412                    FS                USNMCIF   Cibola National Forest   \n",
       "\n",
       "     SOURCE_REPORTING_UNIT SOURCE_REPORTING_UNIT_NAME       ...        \\\n",
       "7412                  0303     Cibola National Forest       ...         \n",
       "\n",
       "       LATITUDE   LONGITUDE OWNER_CODE            OWNER_DESCR STATE COUNTY  \\\n",
       "7412  35.216667 -100.933333       14.0  MISSING/NOT SPECIFIED    TX    179   \n",
       "\n",
       "     FIPS_CODE FIPS_NAME                                              Shape  \\\n",
       "7412       179      Gray  b\"\\x00\\x01\\xad\\x10\\x00\\x00x'\\xb8\\xbb\\xbb;Y\\xc0...   \n",
       "\n",
       "      LENGTH_OF_FIRE  \n",
       "7412             7.0  \n",
       "\n",
       "[1 rows x 40 columns]"
      ]
     },
     "execution_count": 16,
     "metadata": {},
     "output_type": "execute_result"
    }
   ],
   "source": [
    "fires[fires['FIRE_SIZE'] > 300000]"
   ]
  },
  {
   "cell_type": "code",
   "execution_count": 17,
   "metadata": {},
   "outputs": [],
   "source": [
    "fires_no_outlier = fires.drop([7412])"
   ]
  },
  {
   "cell_type": "code",
   "execution_count": 18,
   "metadata": {},
   "outputs": [
    {
     "data": {
      "text/plain": [
       "Text(0.5, 1.0, 'Length of Fire vs. Fire Size')"
      ]
     },
     "execution_count": 18,
     "metadata": {},
     "output_type": "execute_result"
    },
    {
     "data": {
      "image/png": "[encoded data removed]",
      "text/plain": [
       "<Figure size 360x360 with 1 Axes>"
      ]
     },
     "metadata": {},
     "output_type": "display_data"
    }
   ],
   "source": [
    "sns.lmplot('FIRE_SIZE', 'LENGTH_OF_FIRE', data = fires_no_outlier)\n",
    "plt.title('Length of Fire vs. Fire Size')"
   ]
  },
  {
   "cell_type": "markdown",
   "metadata": {},
   "source": [
    "This scatterplot more clearly indicates that there is a positive relationship between the length of the fire and the fire size. This makes intuitive sense because it implies that bigger fires could take longer to contain. We could create a model to determine if a larger fire does, in fact, increase the length of time to contain."
   ]
  }
 ],
 "metadata": {
  "kernelspec": {
   "display_name": "Python 3",
   "language": "python",
   "name": "python3"
  },
  "language_info": {
   "codemirror_mode": {
    "name": "ipython",
    "version": 3
   },
   "file_extension": ".py",
   "mimetype": "text/x-python",
   "name": "python",
   "nbconvert_exporter": "python",
   "pygments_lexer": "ipython3",
   "version": "3.6.4"
  }
 },
 "nbformat": 4,
 "nbformat_minor": 2
}
